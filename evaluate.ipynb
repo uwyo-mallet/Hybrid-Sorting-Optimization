{
 "cells": [
  {
   "cell_type": "code",
   "execution_count": 24,
   "id": "cfb2a87a",
   "metadata": {},
   "outputs": [],
   "source": [
    "%matplotlib widget"
   ]
  },
  {
   "cell_type": "code",
   "execution_count": 25,
   "id": "21101719",
   "metadata": {},
   "outputs": [
    {
     "data": {
      "application/javascript": [
       "// Disable scrolling on plots\n",
       "IPython.OutputArea.prototype._should_scroll = function(lines) {\n",
       "    return false;\n",
       "}\n"
      ],
      "text/plain": [
       "<IPython.core.display.Javascript object>"
      ]
     },
     "metadata": {},
     "output_type": "display_data"
    }
   ],
   "source": [
    "%%javascript\n",
    "// Disable scrolling on plots\n",
    "IPython.OutputArea.prototype._should_scroll = function(lines) {\n",
    "    return false;\n",
    "}"
   ]
  },
  {
   "cell_type": "code",
   "execution_count": 26,
   "id": "b61a8ce9",
   "metadata": {},
   "outputs": [],
   "source": [
    "import pandas as pd\n",
    "import numpy as np\n",
    "from pathlib import Path\n",
    "import matplotlib.pyplot as plt\n",
    "\n",
    "from ipywidgets import interact, interact_manual, interactive, fixed, interact_manual\n",
    "import ipywidgets as widgets\n",
    "\n",
    "from IPython.display import display\n",
    "from IPython.core.display import display, HTML\n",
    "\n",
    "from matplotlib.ticker import MultipleLocator, FormatStrFormatter, AutoMinorLocator\n",
    "import matplotlib"
   ]
  },
  {
   "cell_type": "code",
   "execution_count": 27,
   "id": "1091ca1e",
   "metadata": {},
   "outputs": [],
   "source": [
    "pd.set_option(\"display.max_columns\", None)\n",
    "pd.set_option(\"display.max_rows\", 1000)\n",
    "pd.options.display.float_format = \"{:,}\".format"
   ]
  },
  {
   "cell_type": "code",
   "execution_count": 28,
   "id": "c8c46188",
   "metadata": {},
   "outputs": [
    {
     "data": {
      "text/html": [
       "<style>.container { width:90% !important; }</style>"
      ],
      "text/plain": [
       "<IPython.core.display.HTML object>"
      ]
     },
     "metadata": {},
     "output_type": "display_data"
    }
   ],
   "source": [
    "# Make cells wider\n",
    "display(HTML(\"<style>.container { width:90% !important; }</style>\"))"
   ]
  },
  {
   "cell_type": "code",
   "execution_count": 29,
   "id": "b60cc14b",
   "metadata": {},
   "outputs": [],
   "source": [
    "RESULTS_DIR = Path(\"./results\")\n",
    "METHODS = (\"qsort_c\", \"vanilla_quicksort\", \"insertion_sort\", \"std\")\n",
    "DEFAULT_METHOD = \"qsort_c\"\n",
    "INPUT_TYPES = (\"ascending\", \"descending\", \"random\", \"single_num\", \"N/A\")\n",
    "\n",
    "\n",
    "def load(in_file=None):\n",
    "    if in_file is None:\n",
    "        # Find the latest results directory and the corresponding csv file\n",
    "        dirs = list(RESULTS_DIR.iterdir())\n",
    "        dirs.sort()\n",
    "        try:\n",
    "            LATEST_RESULT = dirs[-1]\n",
    "        except IndexError as e:\n",
    "            raise IndexError(\"No results found\") from e\n",
    "        csvs = list(LATEST_RESULT.glob(\"*.csv\"))\n",
    "        if len(csvs) < 1:\n",
    "            raise KeyError(\"CSV missing\")\n",
    "        in_file = csvs[0]\n",
    "\n",
    "    df = pd.read_csv(in_file)\n",
    "\n",
    "    # TODO: Cleanup the input column, remove extraneous path elements\n",
    "\n",
    "    # Convert microseconds to milliseconds and rename column\n",
    "    df[\"Elapsed Time (microseconds)\"] = df[\"Elapsed Time (microseconds)\"] / 1000\n",
    "    df.rename(\n",
    "        columns={\"Elapsed Time (microseconds)\": \"Runtime (milliseconds)\"}, inplace=True\n",
    "    )\n",
    "    # Add seconds column\n",
    "    df[\"Runtime (seconds)\"] = df[\"Runtime (milliseconds)\"] / 1000\n",
    "\n",
    "    # Reorder columns\n",
    "    df = df[\n",
    "        [\n",
    "            \"Input\",\n",
    "            \"Description\",\n",
    "            \"Method\",\n",
    "            \"Size\",\n",
    "            \"Threshold\",\n",
    "            \"Runtime (milliseconds)\",\n",
    "            \"Runtime (seconds)\",\n",
    "            \"Valid\",\n",
    "        ]\n",
    "    ]\n",
    "\n",
    "    # Average runtime for repeated runs.\n",
    "    df = (\n",
    "        df.groupby([\"Input\", \"Method\", \"Description\", \"Size\", \"Threshold\"])\n",
    "        .mean()\n",
    "        .reset_index()\n",
    "    )\n",
    "\n",
    "    return df, in_file"
   ]
  },
  {
   "cell_type": "code",
   "execution_count": 30,
   "id": "a6473538",
   "metadata": {},
   "outputs": [],
   "source": [
    "def plot_vs_methods(\n",
    "    method=DEFAULT_METHOD,\n",
    "    method_2=DEFAULT_METHOD,\n",
    "    thresh=4,\n",
    "    unit=\"milliseconds\",\n",
    "    table=False,\n",
    "):\n",
    "    threshold = 0 if method != \"qsort_c\" else thresh\n",
    "    threshold_2 = 0 if method_2 != \"qsort_c\" else thresh\n",
    "\n",
    "    method_dfs = []\n",
    "    method_2_dfs = []\n",
    "\n",
    "    for i in INPUT_TYPES:\n",
    "        m = df[df[\"Method\"] == method]\n",
    "        m2 = df[df[\"Method\"] == method_2]\n",
    "\n",
    "        d = m[m[\"Description\"] == i]\n",
    "        d2 = m2[m2[\"Description\"] == i]\n",
    "\n",
    "        method_dfs.append(d[d[\"Threshold\"] == threshold])\n",
    "        method_2_dfs.append(d2[d2[\"Threshold\"] == threshold_2])\n",
    "\n",
    "    for frame, frame2 in zip(method_dfs, method_2_dfs):\n",
    "        # Skip if empty frame\n",
    "        if not len(frame) or not len(frame2):\n",
    "            continue\n",
    "\n",
    "        # Sort for pretty graphs\n",
    "        frame = frame.sort_values([\"Description\", \"Method\", \"Threshold\", \"Size\"])\n",
    "        frame2 = frame2.sort_values([\"Description\", \"Method\", \"Threshold\", \"Size\"])\n",
    "\n",
    "        # Select the first row to get some more info\n",
    "        row_0 = frame.iloc[0]\n",
    "\n",
    "        # Assemble the title\n",
    "        title = \"\"\n",
    "        if method == \"qsort_c\":\n",
    "            title += f\"{method} (threshold: {threshold})\"\n",
    "        else:\n",
    "            title += method\n",
    "        title += \" vs. \"\n",
    "        if method_2 == \"qsort_c\":\n",
    "            title += f\"{method_2} (threshold: {threshold_2})\"\n",
    "        else:\n",
    "            title += method_2\n",
    "        title += f\"\\n{row_0['Description']}\"\n",
    "\n",
    "        # Plot\n",
    "        ax = frame.plot(\n",
    "            x=\"Size\",\n",
    "            y=f\"Runtime ({unit})\",\n",
    "            marker=\".\",\n",
    "            markersize=10,\n",
    "        )\n",
    "        frame2.plot(\n",
    "            ax=ax,\n",
    "            x=\"Size\",\n",
    "            y=f\"Runtime ({unit})\",\n",
    "            marker=\".\",\n",
    "            markersize=10,\n",
    "            title=title,\n",
    "            grid=True,\n",
    "        )\n",
    "\n",
    "        # Fix legends to method names.\n",
    "        ax.legend([method, method_2])\n",
    "\n",
    "        # Set axis titles\n",
    "        ax.set_xlabel(\"Size\")\n",
    "        ax.set_ylabel(f\"Runtime ({unit})\")\n",
    "\n",
    "        # Table of data\n",
    "        if table:\n",
    "            display(frame)\n",
    "            display(frame)"
   ]
  },
  {
   "cell_type": "code",
   "execution_count": 31,
   "id": "9cf34419",
   "metadata": {},
   "outputs": [],
   "source": [
    "def plot_threshold_impact(size=50_000, unit=\"milliseconds\", table=False):\n",
    "    dfs = []\n",
    "\n",
    "    for i in INPUT_TYPES:\n",
    "        m = df[df[\"Method\"] == \"qsort_c\"]\n",
    "        d = m[m[\"Description\"] == i]\n",
    "        dfs.append(d[d[\"Size\"] == size])\n",
    "\n",
    "    for frame in dfs:\n",
    "        # Skip if empty frame\n",
    "        if not len(frame):\n",
    "            continue\n",
    "\n",
    "        # Sort for pretty graphs\n",
    "        frame = frame.sort_values([\"Description\", \"Method\", \"Threshold\", \"Size\"])\n",
    "\n",
    "        # Select the first row to get some more info\n",
    "        row_0 = frame.iloc[0]\n",
    "\n",
    "        # Assemble the title\n",
    "        title = f\"Qsort_c Threshold Value vs. Runtime at {size} Inputs\\n{row_0['Description'].capitalize()}\"\n",
    "\n",
    "        # Plot\n",
    "        ax = frame.plot(\n",
    "            x=\"Threshold\",\n",
    "            y=f\"Runtime ({unit})\",\n",
    "            marker=\".\",\n",
    "            markersize=10,\n",
    "            title=title,\n",
    "            grid=True,\n",
    "        )\n",
    "\n",
    "        # Set axis titles\n",
    "        ax.set_xlabel(\"Threshold\")\n",
    "        ax.set_ylabel(f\"Runtime ({unit})\")\n",
    "\n",
    "        # Force int x axis\n",
    "        ax.get_xaxis().set_major_locator(matplotlib.ticker.MaxNLocator(integer=True))\n",
    "\n",
    "        # Table of data\n",
    "        if table:\n",
    "            display(frame)"
   ]
  },
  {
   "cell_type": "code",
   "execution_count": 32,
   "id": "c23cb09f",
   "metadata": {},
   "outputs": [
    {
     "data": {
      "text/plain": [
       "'./results/2021-07-20_02-46-38/output_2021-07-20_02-46-14.csv'"
      ]
     },
     "metadata": {},
     "output_type": "display_data"
    }
   ],
   "source": [
    "df, in_file = load(\"./results/2021-07-20_02-46-38/output_2021-07-20_02-46-14.csv\")\n",
    "# df, in_file = load()\n",
    "display(in_file)"
   ]
  },
  {
   "cell_type": "code",
   "execution_count": 33,
   "id": "2a7473a0",
   "metadata": {
    "pycharm": {
     "name": "#%%\n"
    }
   },
   "outputs": [
    {
     "data": {
      "application/vnd.jupyter.widget-view+json": {
       "model_id": "7adfec95d6ce4059a78754ee3c90cde5",
       "version_major": 2,
       "version_minor": 0
      },
      "text/plain": [
       "interactive(children=(Dropdown(description='method', options=('qsort_c', 'vanilla_quicksort', 'insertion_sort'…"
      ]
     },
     "metadata": {},
     "output_type": "display_data"
    },
    {
     "data": {
      "text/plain": [
       "<function __main__.plot_vs_methods(method='qsort_c', method_2='qsort_c', thresh=4, unit='milliseconds', table=False)>"
      ]
     },
     "execution_count": 33,
     "metadata": {},
     "output_type": "execute_result"
    }
   ],
   "source": [
    "# Get min and max threshold\n",
    "default_df = df[df[\"Method\"] == DEFAULT_METHOD]\n",
    "MIN_THRESHOLD = default_df[\"Threshold\"].min()\n",
    "MAX_THRESHOLD = default_df[\"Threshold\"].max()\n",
    "\n",
    "interact_manual(\n",
    "    plot_vs_methods,\n",
    "    name=\"Comparing Methods\",\n",
    "    method=list(METHODS),\n",
    "    method_2=list(METHODS),\n",
    "    unit=[\"milliseconds\", \"seconds\"],\n",
    "    thresh=widgets.IntSlider(\n",
    "        min=MIN_THRESHOLD, max=MAX_THRESHOLD, step=1, value=MIN_THRESHOLD\n",
    "    ),\n",
    "    continuous_update=False,\n",
    ")"
   ]
  },
  {
   "cell_type": "code",
   "execution_count": 34,
   "id": "fcb440cf",
   "metadata": {},
   "outputs": [
    {
     "data": {
      "application/vnd.jupyter.widget-view+json": {
       "model_id": "26d5291b08104e34b3d8a676e0a5f6da",
       "version_major": 2,
       "version_minor": 0
      },
      "text/plain": [
       "interactive(children=(IntSlider(value=100000, description='size', max=4900000, min=100000, step=100000), Dropd…"
      ]
     },
     "metadata": {},
     "output_type": "display_data"
    },
    {
     "data": {
      "text/plain": [
       "<function __main__.plot_threshold_impact(size=50000, unit='milliseconds', table=False)>"
      ]
     },
     "execution_count": 34,
     "metadata": {},
     "output_type": "execute_result"
    }
   ],
   "source": [
    "# Get min and max size\n",
    "default_df = df[df[\"Method\"] == \"qsort_c\"]\n",
    "MIN_SIZE = default_df[\"Size\"].min()\n",
    "MAX_SIZE = default_df[\"Size\"].max()\n",
    "STEP = MIN_SIZE\n",
    "\n",
    "interact_manual(\n",
    "    plot_threshold_impact,\n",
    "    name=\"Threshold Impact\",\n",
    "    unit=[\"milliseconds\", \"seconds\"],\n",
    "    size=widgets.IntSlider(min=MIN_SIZE, max=MAX_SIZE, step=STEP, value=MIN_THRESHOLD),\n",
    "    continuous_update=False,\n",
    ")"
   ]
  }
 ],
 "metadata": {
  "kernelspec": {
   "display_name": "Python 3 (ipykernel)",
   "language": "python",
   "name": "python3"
  },
  "language_info": {
   "codemirror_mode": {
    "name": "ipython",
    "version": 3
   },
   "file_extension": ".py",
   "mimetype": "text/x-python",
   "name": "python",
   "nbconvert_exporter": "python",
   "pygments_lexer": "ipython3",
   "version": "3.9.6"
  }
 },
 "nbformat": 4,
 "nbformat_minor": 5
}
