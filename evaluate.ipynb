{
 "cells": [
  {
   "cell_type": "code",
   "execution_count": 259,
   "id": "21101719",
   "metadata": {},
   "outputs": [
    {
     "data": {
      "application/javascript": [
       "// Disable scrolling on plots\n",
       "IPython.OutputArea.prototype._should_scroll = function(lines) {\n",
       "    return false;\n",
       "}\n"
      ],
      "text/plain": [
       "<IPython.core.display.Javascript object>"
      ]
     },
     "metadata": {},
     "output_type": "display_data"
    }
   ],
   "source": [
    "%%javascript\n",
    "// Disable scrolling on plots\n",
    "IPython.OutputArea.prototype._should_scroll = function(lines) {\n",
    "    return false;\n",
    "}"
   ]
  },
  {
   "cell_type": "code",
   "execution_count": 260,
   "id": "28bfb33e",
   "metadata": {},
   "outputs": [],
   "source": [
    "%matplotlib notebook"
   ]
  },
  {
   "cell_type": "code",
   "execution_count": 261,
   "id": "b61a8ce9",
   "metadata": {},
   "outputs": [],
   "source": [
    "import pandas as pd\n",
    "import numpy as np\n",
    "from pathlib import Path\n",
    "import matplotlib.pyplot as plt\n",
    "\n",
    "from ipywidgets import interact, interact_manual, interactive, fixed, interact_manual\n",
    "import ipywidgets as widgets\n",
    "\n",
    "from IPython.display import display\n",
    "from IPython.core.display import display, HTML"
   ]
  },
  {
   "cell_type": "code",
   "execution_count": 262,
   "id": "1091ca1e",
   "metadata": {},
   "outputs": [],
   "source": [
    "pd.set_option(\"display.max_columns\", None)\n",
    "pd.set_option(\"display.max_rows\", 1000)"
   ]
  },
  {
   "cell_type": "code",
   "execution_count": 263,
   "id": "c8c46188",
   "metadata": {},
   "outputs": [
    {
     "data": {
      "text/html": [
       "<style>.container { width:90% !important; }</style>"
      ],
      "text/plain": [
       "<IPython.core.display.HTML object>"
      ]
     },
     "metadata": {},
     "output_type": "display_data"
    }
   ],
   "source": [
    "# Make cells wider\n",
    "display(HTML(\"<style>.container { width:90% !important; }</style>\"))"
   ]
  },
  {
   "cell_type": "code",
   "execution_count": 264,
   "id": "b60cc14b",
   "metadata": {},
   "outputs": [],
   "source": [
    "RESULTS_DIR = Path(\"./results\")\n",
    "METHODS = (\"qsort_c\", \"vanilla_quicksort\", \"insertion_sort\")\n",
    "DEFAULT_METHOD = METHODS[0]\n",
    "INPUT_TYPES = (\"ascending\", \"descending\", \"random\", \"single_num\", \"N/A\")\n",
    "\n",
    "dirs = list(RESULTS_DIR.iterdir())\n",
    "try:\n",
    "    LATEST_RESULT = dirs[-1]\n",
    "except IndexError as e:\n",
    "    raise IndexError(\"No results found\") from e\n",
    "\n",
    "csvs = list(LATEST_RESULT.glob(\"*.csv\"))\n",
    "if len(csvs) < 1:\n",
    "    raise KeyError(\"CSV missing\")\n",
    "IN_FILE = csvs[0]\n",
    "\n",
    "df = pd.read_csv(IN_FILE)\n",
    "\n",
    "# Convert microseconds to milliseconds and rename column\n",
    "df[\"Elapsed Time (microseconds)\"] = df[\"Elapsed Time (microseconds)\"] / 1000\n",
    "df.rename(\n",
    "    columns={\"Elapsed Time (microseconds)\": \"Runtime (milliseconds)\"}, inplace=True\n",
    ")\n",
    "# Add seconds column\n",
    "df[\"Runtime (seconds)\"] = df[\"Runtime (milliseconds)\"] / 1000\n",
    "\n",
    "# Reorder columns\n",
    "df = df[\n",
    "    [\n",
    "        \"Input\",\n",
    "        \"Description\",\n",
    "        \"Method\",\n",
    "        \"Size\",\n",
    "        \"Threshold\",\n",
    "        \"Runtime (milliseconds)\",\n",
    "        \"Runtime (seconds)\",\n",
    "        \"Valid\",\n",
    "    ]\n",
    "]\n",
    "\n",
    "# Average runtime for repeated runs.\n",
    "df = (\n",
    "    df.groupby([\"Input\", \"Method\", \"Description\", \"Size\", \"Threshold\"])\n",
    "    .mean()\n",
    "    .reset_index()\n",
    ")\n",
    "\n",
    "# Get min and max threshold\n",
    "default_df = df[df[\"Method\"] == DEFAULT_METHOD]\n",
    "MIN_THRESHOLD = default_df[\"Threshold\"].min()\n",
    "MAX_THRESHOLD = default_df[\"Threshold\"].max()"
   ]
  },
  {
   "cell_type": "code",
   "execution_count": 272,
   "id": "a6473538",
   "metadata": {},
   "outputs": [],
   "source": [
    "def plot_vs_methods(method=DEFAULT_METHOD, method_2=DEFAULT_METHOD, thresh=4, unit=\"milliseconds\"):\n",
    "    threshold = 0 if method != \"qsort_c\" else thresh\n",
    "    threshold_2 = 0 if method_2 != \"qsort_c\" else thresh\n",
    "\n",
    "    method_dfs = []\n",
    "    method_2_dfs = []\n",
    "\n",
    "    for i in INPUT_TYPES:\n",
    "        m = df[df[\"Method\"] == method]\n",
    "        m2 = df[df[\"Method\"] == method_2]\n",
    "\n",
    "        d = m[m[\"Description\"] == i]\n",
    "        d2 = m2[m2[\"Description\"] == i]\n",
    "\n",
    "        method_dfs.append(d[d[\"Threshold\"] == threshold])\n",
    "        method_2_dfs.append(d2[d2[\"Threshold\"] == threshold_2])\n",
    "\n",
    "    for frame, frame2 in zip(method_dfs, method_2_dfs):\n",
    "        # Skip if empty frame\n",
    "        if not len(frame) or not len(frame2):\n",
    "            continue\n",
    "\n",
    "        # Sort for pretty graphs\n",
    "        frame = frame.sort_values([\"Description\", \"Method\", \"Threshold\", \"Size\"])\n",
    "        frame2 = frame2.sort_values([\"Description\", \"Method\", \"Threshold\", \"Size\"])\n",
    "\n",
    "        # Select the first row to get some more info\n",
    "        row_0 = frame.iloc[0]\n",
    "\n",
    "        # Assemble the title\n",
    "        title = \"\"\n",
    "        if method == \"qsort_c\":\n",
    "            title += f\"{method} (threshold: {threshold})\"\n",
    "        else:\n",
    "            title += method\n",
    "        title += \" vs. \"\n",
    "        if method_2 == \"qsort_c\":\n",
    "            title += f\"{method_2} (threshold: {threshold_2})\"\n",
    "        else:\n",
    "            title += method_2\n",
    "        title += f\"\\n{row_0['Description']}\"\n",
    "\n",
    "        # Plot\n",
    "        ax = frame.plot(\n",
    "            x=\"Size\", y=f\"Runtime ({unit})\", marker=\".\", markersize=10, title=title\n",
    "        )\n",
    "        frame2.plot(\n",
    "            ax=ax,\n",
    "            x=\"Size\",\n",
    "            y=f\"Runtime ({unit})\",\n",
    "            marker=\".\",\n",
    "            markersize=10,\n",
    "        )\n",
    "\n",
    "        # Fix legends to method names.\n",
    "        ax.legend([method, method_2])\n",
    "        \n",
    "        # Set axis titles\n",
    "        ax.set_xlabel(\"Size\")\n",
    "        ax.set_ylabel(f\"Runtime ({unit})\")\n",
    "\n",
    "        # Table of data\n",
    "        display(frame.head())\n",
    "        display(frame2.head())"
   ]
  },
  {
   "cell_type": "code",
   "execution_count": 276,
   "id": "9cf34419",
   "metadata": {},
   "outputs": [],
   "source": [
    "def plot_vs_thresholds(threshold=4, threshold_2=4, unit=\"milliseconds\"):\n",
    "    pass"
   ]
  },
  {
   "cell_type": "code",
   "execution_count": 277,
   "id": "9466818b",
   "metadata": {
    "pycharm": {
     "name": "#%%\n"
    },
    "scrolled": true
   },
   "outputs": [
    {
     "data": {
      "application/vnd.jupyter.widget-view+json": {
       "model_id": "78afe51592194d19a186f0170e7abe3c",
       "version_major": 2,
       "version_minor": 0
      },
      "text/plain": [
       "interactive(children=(Dropdown(description='method', options=('qsort_c', 'vanilla_quicksort', 'insertion_sort'…"
      ]
     },
     "metadata": {},
     "output_type": "display_data"
    },
    {
     "data": {
      "text/plain": [
       "<function __main__.plot_vs_methods(method='qsort_c', method_2='qsort_c', thresh=4, unit='milliseconds')>"
      ]
     },
     "execution_count": 277,
     "metadata": {},
     "output_type": "execute_result"
    }
   ],
   "source": [
    "interact_manual(\n",
    "    plot_vs_methods,\n",
    "    name=\"Plot\",\n",
    "    method=list(METHODS),\n",
    "    method_2=list(METHODS),\n",
    "    unit=[\"milliseconds\", \"seconds\"],\n",
    "    thresh=widgets.IntSlider(\n",
    "        min=MIN_THRESHOLD, max=MAX_THRESHOLD, step=1, value=MIN_THRESHOLD\n",
    "    ),\n",
    "    continuous_update=False,\n",
    ")"
   ]
  }
 ],
 "metadata": {
  "kernelspec": {
   "display_name": "Python 3 (ipykernel)",
   "language": "python",
   "name": "python3"
  },
  "language_info": {
   "codemirror_mode": {
    "name": "ipython",
    "version": 3
   },
   "file_extension": ".py",
   "mimetype": "text/x-python",
   "name": "python",
   "nbconvert_exporter": "python",
   "pygments_lexer": "ipython3",
   "version": "3.9.6"
  }
 },
 "nbformat": 4,
 "nbformat_minor": 5
}
